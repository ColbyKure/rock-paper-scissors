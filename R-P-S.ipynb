{
 "cells": [
  {
   "cell_type": "markdown",
   "metadata": {},
   "source": [
    "# This is a Rock, Paper, Scissors game."
   ]
  },
  {
   "cell_type": "code",
   "execution_count": 1,
   "metadata": {},
   "outputs": [],
   "source": [
    "def get_user_move():\n",
    "    my_move = \":(\"\n",
    "    while True:\n",
    "        print(\"YOUR MOVE!!\\nHow to Play!\\n0: Rock\\n1: Paper\\n2: Scissors\")\n",
    "        inp = input('>> ')\n",
    "        my_move = int(inp) + 1\n",
    "        if (my_move==1) or (my_move==2) or (my_move==3):\n",
    "            break\n",
    "        print(\"\\nENTER '0' or '1' or '2' you idiot!\\n\")\n",
    "        sleep(2)\n",
    "    return my_move"
   ]
  },
  {
   "cell_type": "markdown",
   "metadata": {},
   "source": [
    "The function above is used to:\n",
    "    1: inform the user how to play the game.\n",
    "    2: get the user's current move."
   ]
  },
  {
   "cell_type": "code",
   "execution_count": 2,
   "metadata": {},
   "outputs": [],
   "source": [
    "def get_result(my_move, comp_move):\n",
    "    if (comp_move == (my_move + 1)):\n",
    "        print(\"You Lose\")\n",
    "    elif (my_move == (comp_move + 1)):\n",
    "        print(\"You Win!\")\n",
    "    elif my_move == 1:\n",
    "        print(\"You Win!\")\n",
    "    else:\n",
    "        print(\"You Lose\")"
   ]
  },
  {
   "cell_type": "markdown",
   "metadata": {},
   "source": [
    "The function above is used to:\n",
    "    1: determine the winner of the game."
   ]
  },
  {
   "cell_type": "code",
   "execution_count": 3,
   "metadata": {},
   "outputs": [],
   "source": [
    "def play_rps():\n",
    "    move = [\"Rock\", \"Paper\", \"Scissors\"]\n",
    "    while True:\n",
    "        my_move = get_user_move()\n",
    "        comp_move = random.randint(1,3)\n",
    "        print(\"\\n\\tYou chose \", move[my_move-1])\n",
    "        print(\"\\tcomp chose \", move[comp_move-1])\n",
    "        print()\n",
    "        if comp_move == my_move:\n",
    "            print(\"Its a tie...\\n\")\n",
    "            sleep(2)\n",
    "            continue\n",
    "        get_result(my_move, comp_move)\n",
    "        if \"y\" == input(\"Play Again? (y/n)\"):\n",
    "            continue\n",
    "        break"
   ]
  },
  {
   "cell_type": "markdown",
   "metadata": {},
   "source": [
    "The above code is the main driver for the game and when run starts the game. It reprompts the user to play again after each round finishes. "
   ]
  },
  {
   "cell_type": "code",
   "execution_count": 4,
   "metadata": {},
   "outputs": [
    {
     "name": "stdout",
     "output_type": "stream",
     "text": [
      "YOUR MOVE!!\n",
      "How to Play!\n",
      "0: Rock\n",
      "1: Paper\n",
      "2: Scissors\n",
      ">> 0\n",
      "\n",
      "\tYou chose  Rock\n",
      "\tcomp chose  Rock\n",
      "\n",
      "Its a tie...\n",
      "\n",
      "YOUR MOVE!!\n",
      "How to Play!\n",
      "0: Rock\n",
      "1: Paper\n",
      "2: Scissors\n",
      ">> 0\n",
      "\n",
      "\tYou chose  Rock\n",
      "\tcomp chose  Scissors\n",
      "\n",
      "You Win!\n",
      "Play Again? (y/n)y\n",
      "YOUR MOVE!!\n",
      "How to Play!\n",
      "0: Rock\n",
      "1: Paper\n",
      "2: Scissors\n",
      ">> 1\n",
      "\n",
      "\tYou chose  Paper\n",
      "\tcomp chose  Scissors\n",
      "\n",
      "You Lose\n",
      "Play Again? (y/n)y\n",
      "YOUR MOVE!!\n",
      "How to Play!\n",
      "0: Rock\n",
      "1: Paper\n",
      "2: Scissors\n",
      ">> 2\n",
      "\n",
      "\tYou chose  Scissors\n",
      "\tcomp chose  Rock\n",
      "\n",
      "You Lose\n",
      "Play Again? (y/n)y\n",
      "YOUR MOVE!!\n",
      "How to Play!\n",
      "0: Rock\n",
      "1: Paper\n",
      "2: Scissors\n",
      ">> 3\n",
      "\n",
      "ENTER '0' or '1' or '2' you idiot!\n",
      "\n",
      "YOUR MOVE!!\n",
      "How to Play!\n",
      "0: Rock\n",
      "1: Paper\n",
      "2: Scissors\n",
      ">> 2\n",
      "\n",
      "\tYou chose  Scissors\n",
      "\tcomp chose  Scissors\n",
      "\n",
      "Its a tie...\n",
      "\n",
      "YOUR MOVE!!\n",
      "How to Play!\n",
      "0: Rock\n",
      "1: Paper\n",
      "2: Scissors\n",
      ">> 2\n",
      "\n",
      "\tYou chose  Scissors\n",
      "\tcomp chose  Scissors\n",
      "\n",
      "Its a tie...\n",
      "\n",
      "YOUR MOVE!!\n",
      "How to Play!\n",
      "0: Rock\n",
      "1: Paper\n",
      "2: Scissors\n",
      ">> 1\n",
      "\n",
      "\tYou chose  Paper\n",
      "\tcomp chose  Rock\n",
      "\n",
      "You Win!\n",
      "Play Again? (y/n)n\n"
     ]
    }
   ],
   "source": [
    "from time import sleep\n",
    "import random\n",
    "\n",
    "play_rps()"
   ]
  },
  {
   "cell_type": "code",
   "execution_count": null,
   "metadata": {},
   "outputs": [],
   "source": []
  }
 ],
 "metadata": {
  "kernelspec": {
   "display_name": "Python 3",
   "language": "python",
   "name": "python3"
  },
  "language_info": {
   "codemirror_mode": {
    "name": "ipython",
    "version": 3
   },
   "file_extension": ".py",
   "mimetype": "text/x-python",
   "name": "python",
   "nbconvert_exporter": "python",
   "pygments_lexer": "ipython3",
   "version": "3.7.3"
  }
 },
 "nbformat": 4,
 "nbformat_minor": 2
}
